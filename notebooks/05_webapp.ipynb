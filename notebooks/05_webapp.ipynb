{
 "cells": [
  {
   "cell_type": "markdown",
   "metadata": {},
   "source": [
    "# Simulate Webapp\n",
    "- In 04_select_model.ipynb, a XGBRegressor model was trained and saved using summo and Tokyo geolocation data.\n",
    "- This will be deployed to a webapp. \n",
    "- The webapp will accept a used apartment property listing URL from suumo.jp.\n",
    "- In Django, this URL will be scraped for the model input data.\n",
    "- The data will be sent to the server running the model and a predicted price will be returned."
   ]
  },
  {
   "cell_type": "code",
   "execution_count": 1,
   "metadata": {},
   "outputs": [],
   "source": [
    "import joblib\n",
    "import pandas as pd"
   ]
  },
  {
   "cell_type": "code",
   "execution_count": 2,
   "metadata": {},
   "outputs": [
    {
     "data": {
      "text/html": [
       "<div>\n",
       "<style scoped>\n",
       "    .dataframe tbody tr th:only-of-type {\n",
       "        vertical-align: middle;\n",
       "    }\n",
       "\n",
       "    .dataframe tbody tr th {\n",
       "        vertical-align: top;\n",
       "    }\n",
       "\n",
       "    .dataframe thead th {\n",
       "        text-align: right;\n",
       "    }\n",
       "</style>\n",
       "<table border=\"1\" class=\"dataframe\">\n",
       "  <thead>\n",
       "    <tr style=\"text-align: right;\">\n",
       "      <th></th>\n",
       "      <th>price</th>\n",
       "      <th>area</th>\n",
       "      <th>balcony_area</th>\n",
       "      <th>level</th>\n",
       "      <th>no_floors</th>\n",
       "      <th>year</th>\n",
       "      <th>rooms</th>\n",
       "      <th>living_room</th>\n",
       "      <th>dining_room</th>\n",
       "      <th>kitchen</th>\n",
       "      <th>storage</th>\n",
       "      <th>latitude</th>\n",
       "      <th>longitude</th>\n",
       "    </tr>\n",
       "  </thead>\n",
       "  <tbody>\n",
       "    <tr>\n",
       "      <th>0</th>\n",
       "      <td>11900000.0</td>\n",
       "      <td>41.34</td>\n",
       "      <td>2.43</td>\n",
       "      <td>2.0</td>\n",
       "      <td>4.0</td>\n",
       "      <td>1979</td>\n",
       "      <td>2</td>\n",
       "      <td>False</td>\n",
       "      <td>True</td>\n",
       "      <td>True</td>\n",
       "      <td>0</td>\n",
       "      <td>35.807181</td>\n",
       "      <td>139.808077</td>\n",
       "    </tr>\n",
       "    <tr>\n",
       "      <th>1</th>\n",
       "      <td>13800000.0</td>\n",
       "      <td>16.45</td>\n",
       "      <td>2.69</td>\n",
       "      <td>5.0</td>\n",
       "      <td>9.0</td>\n",
       "      <td>1991</td>\n",
       "      <td>1</td>\n",
       "      <td>False</td>\n",
       "      <td>False</td>\n",
       "      <td>True</td>\n",
       "      <td>0</td>\n",
       "      <td>35.716056</td>\n",
       "      <td>139.787213</td>\n",
       "    </tr>\n",
       "    <tr>\n",
       "      <th>2</th>\n",
       "      <td>29800000.0</td>\n",
       "      <td>43.13</td>\n",
       "      <td>4.58</td>\n",
       "      <td>9.0</td>\n",
       "      <td>12.0</td>\n",
       "      <td>1975</td>\n",
       "      <td>2</td>\n",
       "      <td>False</td>\n",
       "      <td>True</td>\n",
       "      <td>True</td>\n",
       "      <td>0</td>\n",
       "      <td>35.725685</td>\n",
       "      <td>139.787644</td>\n",
       "    </tr>\n",
       "    <tr>\n",
       "      <th>3</th>\n",
       "      <td>34900000.0</td>\n",
       "      <td>64.96</td>\n",
       "      <td>7.53</td>\n",
       "      <td>4.0</td>\n",
       "      <td>14.0</td>\n",
       "      <td>1984</td>\n",
       "      <td>3</td>\n",
       "      <td>True</td>\n",
       "      <td>True</td>\n",
       "      <td>True</td>\n",
       "      <td>0</td>\n",
       "      <td>35.678826</td>\n",
       "      <td>139.822231</td>\n",
       "    </tr>\n",
       "    <tr>\n",
       "      <th>4</th>\n",
       "      <td>41800000.0</td>\n",
       "      <td>54.13</td>\n",
       "      <td>8.92</td>\n",
       "      <td>7.0</td>\n",
       "      <td>10.0</td>\n",
       "      <td>2011</td>\n",
       "      <td>2</td>\n",
       "      <td>True</td>\n",
       "      <td>True</td>\n",
       "      <td>True</td>\n",
       "      <td>0</td>\n",
       "      <td>35.731596</td>\n",
       "      <td>139.816982</td>\n",
       "    </tr>\n",
       "  </tbody>\n",
       "</table>\n",
       "</div>"
      ],
      "text/plain": [
       "        price   area  balcony_area  level  no_floors  year  rooms  \\\n",
       "0  11900000.0  41.34          2.43    2.0        4.0  1979      2   \n",
       "1  13800000.0  16.45          2.69    5.0        9.0  1991      1   \n",
       "2  29800000.0  43.13          4.58    9.0       12.0  1975      2   \n",
       "3  34900000.0  64.96          7.53    4.0       14.0  1984      3   \n",
       "4  41800000.0  54.13          8.92    7.0       10.0  2011      2   \n",
       "\n",
       "   living_room  dining_room  kitchen  storage   latitude   longitude  \n",
       "0        False         True     True        0  35.807181  139.808077  \n",
       "1        False        False     True        0  35.716056  139.787213  \n",
       "2        False         True     True        0  35.725685  139.787644  \n",
       "3         True         True     True        0  35.678826  139.822231  \n",
       "4         True         True     True        0  35.731596  139.816982  "
      ]
     },
     "execution_count": 2,
     "metadata": {},
     "output_type": "execute_result"
    }
   ],
   "source": [
    "df = pd.read_csv('/app/data/sales_combo_property_geo.csv')\n",
    "\n",
    "df.drop([\"Category\",\"URL\",\"plan\",\"address\",\"features\",\"address_block\",\"converted_address\"], axis=1, inplace=True)\n",
    "df['balcony_area'] = df['balcony_area'].fillna(0)\n",
    "df = df.dropna()\n",
    "\n",
    "df.head()"
   ]
  },
  {
   "cell_type": "code",
   "execution_count": 3,
   "metadata": {},
   "outputs": [],
   "source": [
    "X = df.drop([\"price\"], axis=1)\n",
    "y = df[\"price\"]"
   ]
  },
  {
   "cell_type": "code",
   "execution_count": 4,
   "metadata": {},
   "outputs": [
    {
     "data": {
      "text/html": [
       "<div>\n",
       "<style scoped>\n",
       "    .dataframe tbody tr th:only-of-type {\n",
       "        vertical-align: middle;\n",
       "    }\n",
       "\n",
       "    .dataframe tbody tr th {\n",
       "        vertical-align: top;\n",
       "    }\n",
       "\n",
       "    .dataframe thead th {\n",
       "        text-align: right;\n",
       "    }\n",
       "</style>\n",
       "<table border=\"1\" class=\"dataframe\">\n",
       "  <thead>\n",
       "    <tr style=\"text-align: right;\">\n",
       "      <th></th>\n",
       "      <th>area</th>\n",
       "      <th>balcony_area</th>\n",
       "      <th>level</th>\n",
       "      <th>no_floors</th>\n",
       "      <th>year</th>\n",
       "      <th>rooms</th>\n",
       "      <th>living_room</th>\n",
       "      <th>dining_room</th>\n",
       "      <th>kitchen</th>\n",
       "      <th>storage</th>\n",
       "      <th>latitude</th>\n",
       "      <th>longitude</th>\n",
       "    </tr>\n",
       "  </thead>\n",
       "  <tbody>\n",
       "    <tr>\n",
       "      <th>16340</th>\n",
       "      <td>57.88</td>\n",
       "      <td>9.0</td>\n",
       "      <td>7.0</td>\n",
       "      <td>7.0</td>\n",
       "      <td>1996</td>\n",
       "      <td>2</td>\n",
       "      <td>True</td>\n",
       "      <td>True</td>\n",
       "      <td>True</td>\n",
       "      <td>0</td>\n",
       "      <td>35.72274</td>\n",
       "      <td>139.781199</td>\n",
       "    </tr>\n",
       "  </tbody>\n",
       "</table>\n",
       "</div>"
      ],
      "text/plain": [
       "        area  balcony_area  level  no_floors  year  rooms  living_room  \\\n",
       "16340  57.88           9.0    7.0        7.0  1996      2         True   \n",
       "\n",
       "       dining_room  kitchen  storage  latitude   longitude  \n",
       "16340         True     True        0  35.72274  139.781199  "
      ]
     },
     "execution_count": 4,
     "metadata": {},
     "output_type": "execute_result"
    }
   ],
   "source": [
    "random_index = X.sample(n=1, random_state=42).index\n",
    "random_row_X = X.loc[random_index]\n",
    "random_row_y = y.loc[random_index]\n",
    "\n",
    "random_row_X"
   ]
  },
  {
   "cell_type": "code",
   "execution_count": 5,
   "metadata": {},
   "outputs": [
    {
     "name": "stdout",
     "output_type": "stream",
     "text": [
      "Prediction: 54,039,208. True: 54,800,000\n"
     ]
    }
   ],
   "source": [
    "# # Load a model\n",
    "model = joblib.load('/app/models/model_sales_price.pkl')\n",
    "\n",
    "prediction = model.predict(random_row_X)\n",
    "\n",
    "print(f\"Prediction: {prediction[0]:,.0f}. True: {int(random_row_y.iloc[0]):,.0f}\")\n"
   ]
  }
 ],
 "metadata": {
  "kernelspec": {
   "display_name": "Python 3",
   "language": "python",
   "name": "python3"
  },
  "language_info": {
   "codemirror_mode": {
    "name": "ipython",
    "version": 3
   },
   "file_extension": ".py",
   "mimetype": "text/x-python",
   "name": "python",
   "nbconvert_exporter": "python",
   "pygments_lexer": "ipython3",
   "version": "3.12.4"
  }
 },
 "nbformat": 4,
 "nbformat_minor": 2
}
