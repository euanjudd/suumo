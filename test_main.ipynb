# Assuming you have X_test_selected and y_rent_test as your test dataset

# Predict the target variable using the best model
y_pred_test = best_model.predict(X_test_selected)

# Calculate the mean absolute error (MAE) on the test dataset
mae_test = mean_absolute_error(y_rent_test, y_pred_test)

# Print the MAE on the test dataset
print(f"MAE on test dataset: {mae_test:.2f}")